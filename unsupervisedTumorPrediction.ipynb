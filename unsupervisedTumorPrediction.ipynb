{
  "cells": [
    {
      "cell_type": "markdown",
      "source": [
        "**Unsupervised Machine Learning Approach for Tumor Prediction from Random Gene Expression Extracts**\n",
        "\n"
      ],
      "metadata": {
        "id": "n86jee-HZ77v"
      }
    },
    {
      "cell_type": "markdown",
      "source": [
        "# **Abstract**"
      ],
      "metadata": {
        "id": "JvD7ocm8ZvhF"
      }
    },
    {
      "cell_type": "markdown",
      "source": [
        "Predicting disease using machine learning is becoming a more demanding subject in the healthcare field. Supervised machine learning, which learns from data given has become reliable in recent years. However, the difficulty of acquiring the expensive expert annotated data needed for the supervised algorithms limits the ways we can utilize it in various applications. In contrast, unsupervised machine learning models learn from clustering unannotated data, which makes them more versatile, which means that they can use any data that is available. In this paper, we trained an unsupervised model and a supervised model with a dataset of random extraction of gene expressions from patients who have certain types of tumors: BRCA, KIRC, COAD, LUAD, and PRAD. We trained a logistic regression model and a k-means model enhanced with an autoencoder, so we could compare the results of both to properly assess the results of an unsupervised model. After finishing the program, we repeated the train and test process 5000 times, so we could collect the averages and observe the outliers. The supervised model had a median accuracy of 100% which isn't surprising considering the data was labeled. After training the autoencoder, the unsupervised model had a median accuracy of 51% in tumor prediction, which is impressive considering the challenges of using unlabeled data. These results highlight the potential of unsupervised learning models in disease prediction. This study demonstrates that with optimization, unsupervised models can be on par with supervised models, while not depending on expensive human annotations."
      ],
      "metadata": {
        "id": "Op29HffqZq77"
      }
    },
    {
      "cell_type": "markdown",
      "metadata": {
        "id": "yBYw-tNj68wn"
      },
      "source": [
        "\n",
        "# Importing the Dataset\n"
      ]
    },
    {
      "cell_type": "markdown",
      "metadata": {
        "id": "-1o3SIlaYMdK"
      },
      "source": [
        "This collection of data is part of the RNA-Seq (HiSeq) PANCAN data set, it is a random extraction of gene expressions of patients having different types of tumor: BRCA, KIRC, COAD, LUAD and PRAD.\n",
        "\n",
        "You can access the dataset [here](https://archive.ics.uci.edu/dataset/401/gene+expression+cancer+rna+seq)."
      ]
    },
    {
      "cell_type": "markdown",
      "metadata": {
        "id": "iyLOd3GCQCkI"
      },
      "source": [
        "The labels and data have to be uploaded separately"
      ]
    },
    {
      "cell_type": "code",
      "execution_count": null,
      "metadata": {
        "id": "H6S9bL2H7ClB"
      },
      "outputs": [],
      "source": [
        "from google.colab import files\n",
        "uploaded = files.upload()"
      ]
    },
    {
      "cell_type": "code",
      "execution_count": null,
      "metadata": {
        "id": "YacztFYU7T3x"
      },
      "outputs": [],
      "source": [
        "from google.colab import files\n",
        "uploaded = files.upload()"
      ]
    },
    {
      "cell_type": "markdown",
      "metadata": {
        "id": "vFrkYh70J5aU"
      },
      "source": [
        "# Imports"
      ]
    },
    {
      "cell_type": "code",
      "execution_count": null,
      "metadata": {
        "id": "17l2AyZUJ9Ji"
      },
      "outputs": [],
      "source": [
        "import pandas as pd\n",
        "import numpy as np\n",
        "from sklearn.model_selection import train_test_split\n",
        "from sklearn.linear_model import LogisticRegression"
      ]
    },
    {
      "cell_type": "code",
      "execution_count": null,
      "metadata": {
        "id": "JW1rWKRK8PXD"
      },
      "outputs": [],
      "source": [
        "import torch\n",
        "from torchvision import datasets\n",
        "from torchvision import transforms\n",
        "import matplotlib.pyplot as plt"
      ]
    },
    {
      "cell_type": "code",
      "execution_count": null,
      "metadata": {
        "id": "EMRmiCBY8UyS"
      },
      "outputs": [],
      "source": [
        "import os\n",
        "from torch.utils.data import Dataset"
      ]
    },
    {
      "cell_type": "code",
      "execution_count": null,
      "metadata": {
        "id": "fu-Ohek18a-n"
      },
      "outputs": [],
      "source": [
        "from sklearn.cluster import KMeans"
      ]
    },
    {
      "cell_type": "code",
      "execution_count": null,
      "metadata": {
        "id": "GBxe8N628jlE"
      },
      "outputs": [],
      "source": [
        "from sklearn.metrics import accuracy_score"
      ]
    },
    {
      "cell_type": "markdown",
      "metadata": {
        "id": "mv9-8sRvLmSU"
      },
      "source": [
        "#Setting up the Dataset"
      ]
    },
    {
      "cell_type": "code",
      "execution_count": null,
      "metadata": {
        "id": "jrTeyV-rbRaA"
      },
      "outputs": [],
      "source": [
        "data = pd.read_csv(\"data.csv\")\n",
        "data.describe()"
      ]
    },
    {
      "cell_type": "code",
      "execution_count": null,
      "metadata": {
        "id": "sM37ZvkPCEwW"
      },
      "outputs": [],
      "source": [
        "label = pd.read_csv(\"labels.csv\")\n",
        "print(label)"
      ]
    },
    {
      "cell_type": "code",
      "execution_count": null,
      "metadata": {
        "id": "MBznh6Ze995v"
      },
      "outputs": [],
      "source": [
        "print(data)"
      ]
    },
    {
      "cell_type": "code",
      "execution_count": null,
      "metadata": {
        "id": "_7m-IcHp-dpe"
      },
      "outputs": [],
      "source": [
        "merged = pd.concat([data,label], axis=1)"
      ]
    },
    {
      "cell_type": "code",
      "execution_count": null,
      "metadata": {
        "id": "I1MdqKUSBfTg"
      },
      "outputs": [],
      "source": [
        "print(merged)"
      ]
    },
    {
      "cell_type": "code",
      "execution_count": null,
      "metadata": {
        "id": "JuH_OLtaCMUv"
      },
      "outputs": [],
      "source": [
        "X = data.drop(\"Unnamed: 0\", axis=1)\n",
        "X.head()\n",
        "X.to_numpy()"
      ]
    },
    {
      "cell_type": "code",
      "execution_count": null,
      "metadata": {
        "id": "ZgfPwgAqDimi"
      },
      "outputs": [],
      "source": [
        "X.to_numpy().shape"
      ]
    },
    {
      "cell_type": "code",
      "execution_count": null,
      "metadata": {
        "id": "yXu0Q7gjCqvp"
      },
      "outputs": [],
      "source": [
        "Y = label.drop(\"Unnamed: 0\", axis=1)\n",
        "Y.head()"
      ]
    },
    {
      "cell_type": "code",
      "execution_count": null,
      "metadata": {
        "id": "qXGEoSb7DgR5"
      },
      "outputs": [],
      "source": [
        "# text to numbers\n",
        "labelmapping = {'PRAD':0,'LUAD':1,'BRCA':2,'KIRC':3,\"COAD\":4}\n",
        "Y = Y['Class'].tolist()\n",
        "Y = [labelmapping[y] for y in Y]"
      ]
    },
    {
      "cell_type": "markdown",
      "metadata": {
        "id": "rfvYdC13LtOj"
      },
      "source": [
        "#Logistic Regression Model"
      ]
    },
    {
      "cell_type": "code",
      "execution_count": null,
      "metadata": {
        "id": "BMzPKZqM1m6E"
      },
      "outputs": [],
      "source": [
        "#training and testing sets.\n",
        "X_train, X_test, y_train, y_test = train_test_split(X.to_numpy(), np.array(Y), test_size=0.20)"
      ]
    },
    {
      "cell_type": "code",
      "execution_count": null,
      "metadata": {
        "id": "A4oZHwhlE2ou"
      },
      "outputs": [],
      "source": [
        "model = LogisticRegression()\n",
        "model.fit(X_train, y_train)\n",
        "\n",
        "score = model.score(X_test, y_test)\n",
        "print('Score:', score)\n",
        "\n",
        "predictions = model.predict(X_test)\n",
        "print('Predictions:', predictions)"
      ]
    },
    {
      "cell_type": "code",
      "execution_count": null,
      "metadata": {
        "id": "98pbWaR2DY2a"
      },
      "outputs": [],
      "source": [
        "acc = accuracy_score(y_test, predictions)\n",
        "print(\"Accuracy:\", acc)"
      ]
    },
    {
      "cell_type": "markdown",
      "metadata": {
        "id": "CWzM7BKm54X_"
      },
      "source": [
        "#K-means\n"
      ]
    },
    {
      "cell_type": "code",
      "execution_count": null,
      "metadata": {
        "id": "mn_A1BiL5387"
      },
      "outputs": [],
      "source": [
        "\n",
        "kmeans = KMeans(n_clusters=5)\n",
        "kmeans.fit(X_train)\n",
        "prediction = kmeans.predict(X_test)\n"
      ]
    },
    {
      "cell_type": "code",
      "execution_count": null,
      "metadata": {
        "id": "5fKUnzbzC-Ra"
      },
      "outputs": [],
      "source": [
        "acc = accuracy_score(y_test, prediction)\n",
        "print(\"Accuracy:\", acc)"
      ]
    },
    {
      "cell_type": "markdown",
      "metadata": {
        "id": "Ky6UCFsbIwnn"
      },
      "source": []
    },
    {
      "cell_type": "markdown",
      "metadata": {
        "id": "GLDL8E1hEFZn"
      },
      "source": [
        "#AUTOENCODER\n"
      ]
    },
    {
      "cell_type": "code",
      "execution_count": null,
      "metadata": {
        "id": "FyRqKFceBCY1"
      },
      "outputs": [],
      "source": [
        "\n",
        "class CustomGeneDataset(Dataset):\n",
        "  def __init__(self, features, labels, transform=None, target_transform=None):\n",
        "    self.features = torch.FloatTensor(features)\n",
        "    self.labels = torch.FloatTensor(labels)\n",
        "\n",
        "\n",
        "  def __len__(self):\n",
        "    return len(self.labels)\n",
        "\n",
        "  def __getitem__(self, idx):\n",
        "    data = self.features[idx]\n",
        "    label = self.labels[idx]\n",
        "    return data,label"
      ]
    },
    {
      "cell_type": "code",
      "execution_count": null,
      "metadata": {
        "id": "pDgjK2V6Egm9"
      },
      "outputs": [],
      "source": [
        "# Creating a PyTorch class\n",
        "# 28*28 ==> 9 ==> 28*28\n",
        "class AE(torch.nn.Module):\n",
        "\tdef __init__(self):\n",
        "\t\tsuper().__init__()\n",
        "\n",
        "\t\tself.encoder = torch.nn.Sequential(\n",
        "\t\t\ttorch.nn.Linear(20531,1024),\n",
        "\t\t\ttorch.nn.ReLU(),\n",
        "\t\t\ttorch.nn.Linear(1024, 512),\n",
        "\t\t\ttorch.nn.ReLU(),\n",
        "\t\t\ttorch.nn.Linear(512, 256),\n",
        "\t\t\ttorch.nn.ReLU(),\n",
        "\t\t\ttorch.nn.Linear(256, 128),\n",
        "\t\t\ttorch.nn.ReLU(),\n",
        "\t\t\ttorch.nn.Linear(128, 64)\n",
        "\t\t)\n",
        "\n",
        "\t\tself.decoder = torch.nn.Sequential(\n",
        "\t\t\ttorch.nn.Linear(64, 128),\n",
        "\t\t\ttorch.nn.ReLU(),\n",
        "\t\t\ttorch.nn.Linear(128, 256),\n",
        "\t\t\ttorch.nn.ReLU(),\n",
        "\t\t\ttorch.nn.Linear(256, 512),\n",
        "\t\t\ttorch.nn.ReLU(),\n",
        "\t\t\ttorch.nn.Linear(512, 1024),\n",
        "\t\t\ttorch.nn.ReLU(),\n",
        "\t\t\ttorch.nn.Linear(1024,20531),\n",
        "\t\t\ttorch.nn.Sigmoid()\n",
        "\t\t)\n",
        "\n",
        "\tdef forward(self, x):\n",
        "\t\tencoded = self.encoder(x)\n",
        "\t\tdecoded = self.decoder(encoded)\n",
        "\t\treturn decoded\n",
        "\n",
        "\tdef encode(self, x):\n",
        "\t\tencoded = self.encoder(x)\n",
        "\t\treturn encoded\n"
      ]
    },
    {
      "cell_type": "code",
      "execution_count": null,
      "metadata": {
        "id": "RGCChOjsCyC9"
      },
      "outputs": [],
      "source": [
        "# Transforms to a PyTorch Tensor\n",
        "tensor_transform = transforms.ToTensor()\n",
        "\n",
        "train_dataset = CustomGeneDataset(X_train, y_train)\n",
        "test_dataset = CustomGeneDataset(X_test, y_test)\n"
      ]
    },
    {
      "cell_type": "code",
      "execution_count": null,
      "metadata": {
        "id": "VzJvTSuYLJvb"
      },
      "outputs": [],
      "source": [
        "train_loader = torch.utils.data.DataLoader(dataset = train_dataset, batch_size = 8, shuffle = True)\n",
        "test_loader = torch.utils.data.DataLoader(dataset = test_dataset, batch_size = 8, shuffle = True)"
      ]
    },
    {
      "cell_type": "code",
      "execution_count": null,
      "metadata": {
        "id": "BKbELxWLEkHt"
      },
      "outputs": [],
      "source": [
        "# Model Initialization\n",
        "model = AE()\n",
        "model = model.cuda()\n",
        "# Validation using MSE Loss function\n",
        "loss_function = torch.nn.MSELoss()\n",
        "\n",
        "#Adam Optimizer\n",
        "optimizer = torch.optim.Adam(model.parameters(),\n",
        "\t\t\t\t\t\t\tlr = 1e-3,\n",
        "\t\t\t\t\t\t\tweight_decay = 1e-8)\n"
      ]
    },
    {
      "cell_type": "code",
      "execution_count": null,
      "metadata": {
        "id": "RNU46j0gEpsM"
      },
      "outputs": [],
      "source": [
        "epochs = 20\n",
        "outputs = []\n",
        "losses = []\n",
        "for epoch in range(epochs):\n",
        "    for (data, reconstructed) in train_loader:\n",
        "        # Output of Autoencoder\n",
        "        reconstructed = model(data)\n",
        "\n",
        "        # Calculating the loss function\n",
        "        loss = loss_function(reconstructed, data)\n",
        "\n",
        "        # The gradients are set to zero,\n",
        "        # the gradient is computed and stored.\n",
        "        # .step() performs parameter update\n",
        "        optimizer.zero_grad()\n",
        "        loss.backward()\n",
        "        optimizer.step()\n",
        "\n",
        "        # Storing the losses in a list for plotting\n",
        "        losses.append(loss)\n",
        "\n",
        "\n",
        "\n"
      ]
    },
    {
      "cell_type": "code",
      "execution_count": null,
      "metadata": {
        "id": "RaX6tX9nn6On"
      },
      "outputs": [],
      "source": [
        "trainset_encoded_representation = []\n",
        "with torch.no_grad():\n",
        "  for (data,reconstructed) in train_loader:\n",
        "    encoded = model.encode(data)\n",
        "    trainset_encoded_representation.extend(encoded)"
      ]
    },
    {
      "cell_type": "code",
      "execution_count": null,
      "metadata": {
        "id": "KZKrKhZyD6RO"
      },
      "outputs": [],
      "source": [
        "testset_encoded_representation = []\n",
        "with torch.no_grad():\n",
        "  for (data,reconstructed) in test_loader:\n",
        "    encoded = model.encode(data)\n",
        "    testset_encoded_representation.extend(encoded)"
      ]
    },
    {
      "cell_type": "code",
      "execution_count": null,
      "metadata": {
        "id": "wj_Bke8HoOZl"
      },
      "outputs": [],
      "source": [
        "trainset_encoded_representation = [encoded.cpu().numpy() for encoded in trainset_encoded_representation]\n",
        "testset_encoded_representation = [encoded.cpu().numpy() for encoded in testset_encoded_representation]"
      ]
    },
    {
      "cell_type": "code",
      "execution_count": null,
      "metadata": {
        "id": "6PcScT2QoDXU"
      },
      "outputs": [],
      "source": [
        "\n",
        "kmeans = KMeans(n_clusters=3)\n",
        "kmeans.fit(trainset_encoded_representation)\n",
        "prediction = kmeans.predict(testset_encoded_representation)"
      ]
    },
    {
      "cell_type": "code",
      "execution_count": null,
      "metadata": {
        "id": "IzUMX70rpwtH"
      },
      "outputs": [],
      "source": [
        "acc = accuracy_score(y_test, prediction)\n",
        "print(\"Accuracy:\", acc)"
      ]
    },
    {
      "cell_type": "code",
      "execution_count": null,
      "metadata": {
        "id": "1wHx3pNAkL6b"
      },
      "outputs": [],
      "source": []
    },
    {
      "cell_type": "code",
      "execution_count": null,
      "metadata": {
        "id": "POAjhmWwqG5G"
      },
      "outputs": [],
      "source": [
        "#print(trainset_encoded_representation)"
      ]
    },
    {
      "cell_type": "code",
      "execution_count": null,
      "metadata": {
        "id": "yMAK8g2kF4H3"
      },
      "outputs": [],
      "source": [
        "\n"
      ]
    },
    {
      "cell_type": "markdown",
      "metadata": {
        "id": "EFiH1y0PYlmm"
      },
      "source": [
        "# Citations\n"
      ]
    },
    {
      "cell_type": "markdown",
      "metadata": {
        "id": "vXCsBoy-pePp"
      },
      "source": [
        "Fiorini,Samuele. (2016). gene expression cancer RNA-Seq. UCI Machine Learning Repository. https://doi.org/10.24432/C5R88H.\n",
        "\n",
        "https://www.geeksforgeeks.org/implementing-an-autoencoder-in-pytorch/\n",
        "\n",
        "https://pytorch.org/tutorials/beginner/basics/data_tutorial.html"
      ]
    },
    {
      "cell_type": "code",
      "source": [],
      "metadata": {
        "id": "wDdacavxzmBT"
      },
      "execution_count": null,
      "outputs": []
    }
  ],
  "metadata": {
    "colab": {
      "provenance": [],
      "gpuType": "V100",
      "authorship_tag": "ABX9TyOqrFnmNiKeZojun3yfcFFq"
    },
    "kernelspec": {
      "display_name": "Python 3",
      "name": "python3"
    },
    "language_info": {
      "name": "python"
    },
    "accelerator": "GPU"
  },
  "nbformat": 4,
  "nbformat_minor": 0
}